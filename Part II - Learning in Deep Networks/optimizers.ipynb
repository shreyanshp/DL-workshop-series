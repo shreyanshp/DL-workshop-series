{
 "cells": [
  {
   "cell_type": "markdown",
   "metadata": {
    "id": "WXZVTfnEagkX",
    "colab_type": "text"
   },
   "source": [
    "# Optimizers:\n",
    "\n",
    "---\n",
    "\n",
    "### 1.   SGD [keras.optimizers.SGD(lr=0.01, momentum=0.0, decay=0.0, nesterov=False)]\n",
    "### 2.   RMSProp [keras.optimizers.RMSprop(lr=0.001, rho=0.9, epsilon=None, decay=0.0***)]\n",
    "### 3. AdaGrad [keras.optimizers.Adagrad(lr=0.01, epsilon=None, decay=0.0)]\n",
    "### 4. Adam [keras.optimizers.Adam(lr=0.001, beta_1=0.9, beta_2=0.999, epsilon=None, decay=0.0, amsgrad=False)]\n",
    "\n"
   ]
  },
  {
   "cell_type": "markdown",
   "metadata": {
    "id": "gXjcP-Vogrp-",
    "colab_type": "text"
   },
   "source": [
    "# First import required libraries and Keras layers"
   ]
  },
  {
   "cell_type": "code",
   "execution_count": 1,
   "metadata": {
    "id": "3JTZAC1Fatk3",
    "colab_type": "code",
    "outputId": "553b4315-f4fe-43c6-fe61-926fd205dd88",
    "colab": {
     "base_uri": "https://localhost:8080/",
     "height": 34.0
    }
   },
   "outputs": [
    {
     "name": "stderr",
     "output_type": "stream",
     "text": [
      "Using TensorFlow backend.\n"
     ]
    }
   ],
   "source": [
    "import keras\n",
    "from keras.datasets import mnist\n",
    "from keras.models import Sequential\n",
    "from keras.layers import Dense, Dropout, Flatten\n",
    "from keras.layers import Conv2D, MaxPooling2D\n",
    "from keras import backend as K"
   ]
  },
  {
   "cell_type": "markdown",
   "metadata": {
    "id": "Q6KTrVIPa44k",
    "colab_type": "text"
   },
   "source": [
    "# Define hyperparameters:\n",
    "---\n",
    "\n",
    "\n",
    "## Batchsize, number of epochs to train, number of classes & input image dimensions"
   ]
  },
  {
   "cell_type": "code",
   "execution_count": 0,
   "metadata": {
    "id": "6mGqwOeia7cc",
    "colab_type": "code",
    "colab": {}
   },
   "outputs": [],
   "source": [
    "batch_size = 128\n",
    "num_classes = 10\n",
    "epochs = 4\n",
    "number_of_training_samples = 1000\n",
    "number_of_test_samples = 500\n",
    "\n",
    "img_rows, img_cols = 28, 28"
   ]
  },
  {
   "cell_type": "markdown",
   "metadata": {
    "id": "lyWM0srqbtzq",
    "colab_type": "text"
   },
   "source": [
    "# Load MNIST dataset & reshape the images"
   ]
  },
  {
   "cell_type": "code",
   "execution_count": 3,
   "metadata": {
    "id": "xPNHNsaqbxm9",
    "colab_type": "code",
    "colab": {
     "base_uri": "https://localhost:8080/",
     "height": 51.0
    },
    "outputId": "f9c2e491-1cce-4d88-8105-346f33907a2c"
   },
   "outputs": [
    {
     "name": "stdout",
     "output_type": "stream",
     "text": [
      "Downloading data from https://s3.amazonaws.com/img-datasets/mnist.npz\n",
      "11493376/11490434 [==============================] - 0s 0us/step\n"
     ]
    }
   ],
   "source": [
    "(x_train, y_train), (x_test, y_test) = mnist.load_data()\n",
    "\n",
    "x_train = x_train.reshape(x_train.shape[0], img_rows, img_cols, 1)\n",
    "x_test = x_test.reshape(x_test.shape[0], img_rows, img_cols, 1)\n",
    "input_shape = (img_rows, img_cols, 1)"
   ]
  },
  {
   "cell_type": "markdown",
   "metadata": {
    "id": "Ldjez0SCb_xO",
    "colab_type": "text"
   },
   "source": [
    "# Normalize image pixels & check for dataset size"
   ]
  },
  {
   "cell_type": "code",
   "execution_count": 4,
   "metadata": {
    "id": "lf8vk-YlcFNQ",
    "colab_type": "code",
    "outputId": "77cc576d-1230-4621-945f-faeedda52522",
    "colab": {
     "base_uri": "https://localhost:8080/",
     "height": 68.0
    }
   },
   "outputs": [
    {
     "name": "stdout",
     "output_type": "stream",
     "text": [
      "x_train shape: (60000, 28, 28, 1)\n",
      "Train samples: 60000 --- Test samples: 10000\n",
      "Train labels: 60000 --- Test lables: 10000\n"
     ]
    }
   ],
   "source": [
    "x_train = x_train.astype('float32')\n",
    "x_test = x_test.astype('float32')\n",
    "x_train /= 255\n",
    "x_test /= 255\n",
    "print('x_train shape:', x_train.shape)\n",
    "print('Train samples: {} --- Test samples: {}'.format(x_train.shape[0], x_test.shape[0]))\n",
    "print('Train labels: {} --- Test lables: {}'.format(y_train.shape[0], y_test.shape[0]))\n"
   ]
  },
  {
   "cell_type": "markdown",
   "metadata": {
    "id": "XRdAcCPZeyou",
    "colab_type": "text"
   },
   "source": [
    "# Decrease the dataset size so that we can train the model with several different optimizers"
   ]
  },
  {
   "cell_type": "code",
   "execution_count": 5,
   "metadata": {
    "id": "y_kb52Mde6Et",
    "colab_type": "code",
    "outputId": "a174c4e8-5a07-49f7-a842-9b7df852e781",
    "colab": {
     "base_uri": "https://localhost:8080/",
     "height": 68.0
    }
   },
   "outputs": [
    {
     "name": "stdout",
     "output_type": "stream",
     "text": [
      "x_train shape: (1000, 28, 28, 1)\n",
      "Train samples: 1000 --- Test samples: 500\n",
      "Train labels: 1000 --- Test lables: 500\n"
     ]
    }
   ],
   "source": [
    "x_train = x_train[:number_of_training_samples, :, :, :]\n",
    "y_train = y_train[:number_of_training_samples]\n",
    "x_test = x_test[:number_of_test_samples, :, :, :]\n",
    "y_test = y_test[:number_of_test_samples]\n",
    "\n",
    "print('x_train shape:', x_train.shape)\n",
    "print('Train samples: {} --- Test samples: {}'.format(x_train.shape[0], x_test.shape[0]))\n",
    "print('Train labels: {} --- Test lables: {}'.format(y_train.shape[0], y_test.shape[0]))"
   ]
  },
  {
   "cell_type": "markdown",
   "metadata": {
    "id": "YJEHUj1HcKnC",
    "colab_type": "text"
   },
   "source": [
    "# Convert class vectors to binary class matrices"
   ]
  },
  {
   "cell_type": "code",
   "execution_count": 0,
   "metadata": {
    "id": "XLL5FV69cL66",
    "colab_type": "code",
    "colab": {}
   },
   "outputs": [],
   "source": [
    "y_train = keras.utils.to_categorical(y_train, num_classes)\n",
    "y_test = keras.utils.to_categorical(y_test, num_classes)"
   ]
  },
  {
   "cell_type": "markdown",
   "metadata": {
    "id": "jKhP84R0cQIO",
    "colab_type": "text"
   },
   "source": [
    "# Define loss function, optimization algorithm & performance metrics"
   ]
  },
  {
   "cell_type": "code",
   "execution_count": 0,
   "metadata": {
    "id": "aimk-X-3cTHb",
    "colab_type": "code",
    "colab": {}
   },
   "outputs": [],
   "source": [
    "loss_ = keras.losses.categorical_crossentropy\n",
    "\"\"\"\n",
    "keras.optimizers.SGD(lr=0.01, momentum=0.0, decay=0.0, nesterov=False)\n",
    "keras.optimizers.SGD(lr=0.01, momentum=0.9, decay=1e-6, nesterov=False)\n",
    "keras.optimizers.SGD(lr=0.01, momentum=0.9, decay=1e-6, nesterov=True)\n",
    "\n",
    "\n",
    "\n",
    "keras.optimizers.RMSprop(lr=0.001, rho=0.9, epsilon=None, decay=0.0)\n",
    "keras.optimizers.Adagrad(lr=0.01, epsilon=None, decay=0.0)\n",
    "keras.optimizers.Adam(lr=0.001, beta_1=0.9, beta_2=0.999, epsilon=None, decay=0.0, amsgrad=False)\n",
    "keras.optimizers.Adadelta()\n",
    "\"\"\"\n",
    "optimizer_ = keras.optimizers.Adam(lr=0.001, beta_1=0.9, beta_2=0.999, epsilon=None, decay=0.0, amsgrad=False)\n",
    "\n",
    "metrics_ = ['accuracy']"
   ]
  },
  {
   "cell_type": "markdown",
   "metadata": {
    "id": "KcQgXNzTc21f",
    "colab_type": "text"
   },
   "source": [
    "# Build your CNN network "
   ]
  },
  {
   "cell_type": "code",
   "execution_count": 15,
   "metadata": {
    "id": "f1Y8FqN_c61P",
    "colab_type": "code",
    "outputId": "1c36dae6-018c-42e0-e366-9b1a8fbe6ad7",
    "colab": {
     "base_uri": "https://localhost:8080/",
     "height": 408.0
    }
   },
   "outputs": [
    {
     "name": "stdout",
     "output_type": "stream",
     "text": [
      "_________________________________________________________________\n",
      "Layer (type)                 Output Shape              Param #   \n",
      "=================================================================\n",
      "conv2d_5 (Conv2D)            (None, 26, 26, 32)        320       \n",
      "_________________________________________________________________\n",
      "conv2d_6 (Conv2D)            (None, 24, 24, 64)        18496     \n",
      "_________________________________________________________________\n",
      "max_pooling2d_3 (MaxPooling2 (None, 12, 12, 64)        0         \n",
      "_________________________________________________________________\n",
      "dropout_5 (Dropout)          (None, 12, 12, 64)        0         \n",
      "_________________________________________________________________\n",
      "flatten_3 (Flatten)          (None, 9216)              0         \n",
      "_________________________________________________________________\n",
      "dense_5 (Dense)              (None, 32)                294944    \n",
      "_________________________________________________________________\n",
      "dropout_6 (Dropout)          (None, 32)                0         \n",
      "_________________________________________________________________\n",
      "dense_6 (Dense)              (None, 10)                330       \n",
      "=================================================================\n",
      "Total params: 314,090\n",
      "Trainable params: 314,090\n",
      "Non-trainable params: 0\n",
      "_________________________________________________________________\n"
     ]
    }
   ],
   "source": [
    "model = Sequential()\n",
    "model.add(Conv2D(32, kernel_size=(3, 3),\n",
    "                 activation='relu',\n",
    "                 input_shape=input_shape))\n",
    "model.add(Conv2D(64, (3, 3), activation='relu'))\n",
    "model.add(MaxPooling2D(pool_size=(2, 2)))\n",
    "model.add(Dropout(0.25))\n",
    "model.add(Flatten())\n",
    "model.add(Dense(32, activation='relu'))\n",
    "model.add(Dropout(0.5))\n",
    "model.add(Dense(num_classes, activation='softmax'))\n",
    "\n",
    "model.compile(loss=loss_,\n",
    "              optimizer=optimizer_,\n",
    "              metrics=metrics_)\n",
    "model.summary()\n"
   ]
  },
  {
   "cell_type": "markdown",
   "metadata": {
    "id": "wyZRYcKtdvgC",
    "colab_type": "text"
   },
   "source": [
    "# Train the CNN with the pre-defined hyperparameters"
   ]
  },
  {
   "cell_type": "code",
   "execution_count": 16,
   "metadata": {
    "id": "fN0rdrQidzsw",
    "colab_type": "code",
    "outputId": "95a6e17e-94c9-4b2a-a9db-a7a378adbd83",
    "colab": {
     "base_uri": "https://localhost:8080/",
     "height": 187.0
    }
   },
   "outputs": [
    {
     "name": "stdout",
     "output_type": "stream",
     "text": [
      "Train on 1000 samples, validate on 500 samples\n",
      "Epoch 1/4\n",
      "1000/1000 [==============================] - 3s 3ms/step - loss: 2.1473 - acc: 0.2620 - val_loss: 1.8076 - val_acc: 0.6060\n",
      "Epoch 2/4\n",
      "1000/1000 [==============================] - 3s 3ms/step - loss: 1.5689 - acc: 0.4610 - val_loss: 1.1365 - val_acc: 0.6800\n",
      "Epoch 3/4\n",
      "1000/1000 [==============================] - 3s 3ms/step - loss: 1.1620 - acc: 0.6020 - val_loss: 0.8432 - val_acc: 0.7600\n",
      "Epoch 4/4\n",
      "1000/1000 [==============================] - 3s 3ms/step - loss: 0.9276 - acc: 0.6840 - val_loss: 0.6683 - val_acc: 0.8080\n"
     ]
    },
    {
     "data": {
      "text/plain": [
       "<keras.callbacks.History at 0x7f0185933400>"
      ]
     },
     "execution_count": 16,
     "metadata": {
      "tags": []
     },
     "output_type": "execute_result"
    }
   ],
   "source": [
    "model.fit(x_train, y_train,\n",
    "          batch_size=batch_size,\n",
    "          epochs=epochs,\n",
    "          verbose=1,\n",
    "          validation_data=(x_test, y_test))"
   ]
  },
  {
   "cell_type": "markdown",
   "metadata": {
    "id": "ozUVY8c3gN02",
    "colab_type": "text"
   },
   "source": [
    "# Chech for performance metrics\n",
    "\n",
    "---\n",
    "\n",
    "## Test Loss & Accuracy"
   ]
  },
  {
   "cell_type": "code",
   "execution_count": 10,
   "metadata": {
    "id": "UAIl0Tz4d1GX",
    "colab_type": "code",
    "outputId": "040c0c9e-adda-4769-e0f0-27199aa2cb61",
    "colab": {
     "base_uri": "https://localhost:8080/",
     "height": 51.0
    }
   },
   "outputs": [
    {
     "name": "stdout",
     "output_type": "stream",
     "text": [
      "Test loss: 2.270305294036865\n",
      "Test accuracy: 0.25600000047683713\n"
     ]
    }
   ],
   "source": [
    "score = model.evaluate(x_test, y_test, verbose=0)\n",
    "print('Test loss:', score[0])\n",
    "print('Test accuracy:', score[1])"
   ]
  },
  {
   "cell_type": "code",
   "execution_count": 0,
   "metadata": {
    "id": "9wisXoG3gVZW",
    "colab_type": "code",
    "colab": {}
   },
   "outputs": [],
   "source": [
    ""
   ]
  }
 ],
 "metadata": {
  "colab": {
   "name": "optimizers.ipynb",
   "version": "0.3.2",
   "provenance": []
  },
  "kernelspec": {
   "name": "python3",
   "display_name": "Python 3"
  }
 },
 "nbformat": 4,
 "nbformat_minor": 0
}
